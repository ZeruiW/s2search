{
 "cells": [
  {
   "cell_type": "markdown",
   "id": "f7f7cc4c",
   "metadata": {},
   "source": [
    "<a href=\"https://colab.research.google.com/github/DingLi23/s2search/blob/pipelining/pipelining/exp-csce/exp-csce_csce_shapley_value.ipynb\" target=\"_blank\"><img src=\"https://colab.research.google.com/assets/colab-badge.svg\" alt=\"Open In Colab\"/></a>"
   ]
  },
  {
   "cell_type": "markdown",
   "id": "1ec412ce",
   "metadata": {},
   "source": [
    "### Experiment Description\n",
    "\n",
    "\n",
    "\n",
    "> This notebook is for experiment \\<exp-csce\\> and data sample \\<csce\\>."
   ]
  },
  {
   "cell_type": "markdown",
   "id": "9d7bad03",
   "metadata": {},
   "source": [
    "### Initialization"
   ]
  },
  {
   "cell_type": "code",
   "execution_count": null,
   "id": "10f53110",
   "metadata": {},
   "outputs": [],
   "source": [
    "%reload_ext autoreload\n",
    "%autoreload 2\n",
    "import numpy as np, sys, os\n",
    "sys.path.insert(1, '../../')\n",
    "\n",
    "from shapley_value import compute_shapley_value, feature_key_list\n",
    "\n",
    "sv = compute_shapley_value('exp-csce', 'csce')\n"
   ]
  },
  {
   "cell_type": "markdown",
   "id": "350d04d5",
   "metadata": {},
   "source": [
    "### Plotting"
   ]
  },
  {
   "cell_type": "code",
   "execution_count": null,
   "id": "8f574363",
   "metadata": {},
   "outputs": [],
   "source": [
    "import matplotlib.pyplot as plt\n",
    "import numpy as np\n",
    "from s2search_score_pdp import pdp_based_importance\n",
    "\n",
    "fig, axs = plt.subplots(nrows=1, ncols=2, figsize=(12, 5), dpi=200)\n",
    "\n",
    "# generate some random test data\n",
    "all_data = []\n",
    "average_sv = []\n",
    "sv_global_imp = []\n",
    "\n",
    "for player_sv in [f'{player}_sv' for player in feature_key_list]:\n",
    "    all_data.append(sv[player_sv])\n",
    "    average_sv.append(pdp_based_importance(sv[player_sv]))\n",
    "    sv_global_imp.append(np.mean(np.abs(list(sv[player_sv]))))\n",
    "    # average_sv.append(np.std(sv[player_sv]))\n",
    "    # print(np.max(sv[player_sv]))\n",
    "\n",
    "# plot violin plot\n",
    "axs[0].violinplot(all_data,\n",
    "                  showmeans=False,\n",
    "                  showmedians=True)\n",
    "axs[0].set_title('Violin plot')\n",
    "\n",
    "# plot box plot\n",
    "axs[1].boxplot(all_data, \n",
    "               showfliers=False, \n",
    "               showmeans=True,\n",
    "               )\n",
    "axs[1].set_title('Box plot')\n",
    "\n",
    "# adding horizontal grid lines\n",
    "for ax in axs:\n",
    "    ax.yaxis.grid(True)\n",
    "    ax.set_xticks([y + 1 for y in range(len(all_data))],\n",
    "                  labels=['title', 'abstract', 'venue', 'authors', 'year', 'n_citations'])\n",
    "    ax.set_xlabel('Features')\n",
    "    ax.set_ylabel('Shapley Value')\n",
    "\n",
    "plt.show()\n"
   ]
  },
  {
   "cell_type": "code",
   "execution_count": null,
   "id": "9f1f2fd6",
   "metadata": {},
   "outputs": [],
   "source": [
    "plt.rcdefaults()\n",
    "fig, ax = plt.subplots(figsize=(12, 4), dpi=200)\n",
    "\n",
    "# Example data\n",
    "feature_names = ('title', 'abstract', 'venue', 'authors', 'year', 'n_citations')\n",
    "y_pos = np.arange(len(feature_names))\n",
    "# error = np.random.rand(len(feature_names))\n",
    "\n",
    "# ax.xaxis.grid(True)\n",
    "ax.barh(y_pos, average_sv, align='center', color='#008bfb')\n",
    "ax.set_yticks(y_pos, labels=feature_names)\n",
    "ax.invert_yaxis()  # labels read top-to-bottom\n",
    "ax.set_xlabel('PDP-based Feature Importance on Shapley Value')\n",
    "ax.spines['right'].set_visible(False)\n",
    "ax.spines['top'].set_visible(False)\n",
    "\n",
    "_, xmax = plt.xlim()\n",
    "plt.xlim(0, xmax + 1)\n",
    "for i, v in enumerate(average_sv):\n",
    "    margin = 0.05\n",
    "    ax.text(v + margin if v > 0 else margin, i, str(round(v, 4)), color='black', ha='left', va='center')\n",
    "\n",
    "plt.show()\n"
   ]
  },
  {
   "cell_type": "code",
   "execution_count": null,
   "id": "88b5f8f2",
   "metadata": {},
   "outputs": [],
   "source": [
    "plt.rcdefaults()\n",
    "fig, ax = plt.subplots(figsize=(12, 4), dpi=200)\n",
    "\n",
    "# Example data\n",
    "feature_names = ('title', 'abstract', 'venue', 'authors', 'year', 'n_citations')\n",
    "y_pos = np.arange(len(feature_names))\n",
    "# error = np.random.rand(len(feature_names))\n",
    "\n",
    "# ax.xaxis.grid(True)\n",
    "ax.barh(y_pos, sv_global_imp, align='center', color='#008bfb')\n",
    "ax.set_yticks(y_pos, labels=feature_names)\n",
    "ax.invert_yaxis()  # labels read top-to-bottom\n",
    "ax.set_xlabel('SHAP Feature Importance')\n",
    "ax.spines['right'].set_visible(False)\n",
    "ax.spines['top'].set_visible(False)\n",
    "\n",
    "_, xmax = plt.xlim()\n",
    "plt.xlim(0, xmax + 1)\n",
    "for i, v in enumerate(sv_global_imp):\n",
    "    margin = 0.05\n",
    "    ax.text(v + margin if v > 0 else margin, i, str(round(v, 4)), color='black', ha='left', va='center')\n",
    "\n",
    "plt.show()\n"
   ]
  }
 ],
 "metadata": {
  "kernelspec": {
   "display_name": "Python 3",
   "name": "python3"
  },
  "language_info": {
   "codemirror_mode": {
    "name": "ipython",
    "version": 3
   },
   "file_extension": ".py",
   "mimetype": "text/x-python",
   "name": "python",
   "nbconvert_exporter": "python",
   "pygments_lexer": "ipython3",
   "version": "3.9.7"
  }
 },
 "nbformat": 4,
 "nbformat_minor": 5
}
